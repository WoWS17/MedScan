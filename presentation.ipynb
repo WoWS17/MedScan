{
 "cells": [
  {
   "cell_type": "markdown",
   "id": "8c81278c",
   "metadata": {
    "slideshow": {
     "slide_type": "slide"
    },
    "tags": []
   },
   "source": [
    "# MedScan (Medical Scanner)\n",
    "\n",
    "<p align=\"center\">\n",
    "  <img src=\"./images/cover.png\" alt=\"Cover\">\n",
    "</p>\n"
   ]
  },
  {
   "cell_type": "markdown",
   "id": "c4920022",
   "metadata": {
    "slideshow": {
     "slide_type": "slide"
    },
    "tags": []
   },
   "source": [
    "## Introduzione\n",
    "\n",
    "Si vuole costruire un sistema che sia in grado di elaborare in real time dei referti medici. In particolare, si vogliono estrarre dai documenti informazioni quali lo stato delle strutture anatomiche esaminate, la diagnosi medica e altre informazioni legate alla salute del paziente."
   ]
  },
  {
   "cell_type": "markdown",
   "id": "73873922",
   "metadata": {
    "slideshow": {
     "slide_type": "slide"
    },
    "tags": []
   },
   "source": [
    "## Data flow\n",
    "\n",
    "<center><img src=\"./images/schema-tecnologie.png\"></center>"
   ]
  },
  {
   "cell_type": "markdown",
   "id": "d967e252",
   "metadata": {
    "slideshow": {
     "slide_type": "slide"
    },
    "tags": []
   },
   "source": [
    "## Data source\n",
    "\n",
    "I dati analizzati sono stati forniti da un medico.\n",
    "\n",
    "Sono delle diagnosi formulate a seguito di esami ecografici alle regioni inguino-scrotale maschili."
   ]
  },
  {
   "cell_type": "markdown",
   "id": "a4ae8263",
   "metadata": {
    "slideshow": {
     "slide_type": "slide"
    },
    "tags": []
   },
   "source": [
    "<center><img src=\"./images/dati.png\"></center>"
   ]
  },
  {
   "cell_type": "markdown",
   "id": "2a59006a",
   "metadata": {
    "slideshow": {
     "slide_type": "slide"
    },
    "tags": []
   },
   "source": [
    "## Data Ingestion\n",
    "\n",
    "<img src=\"./images/logstash-cover.png\" width=\"30%\">"
   ]
  },
  {
   "cell_type": "markdown",
   "id": "b2130ad2",
   "metadata": {
    "slideshow": {
     "slide_type": "fragment"
    },
    "tags": []
   },
   "source": [
    "Logstash è un progetto open-source per l'analisi dei log in tempo reale. E' utilizzato per accumulare i testi dei referti. <br>\n",
    "\n",
    "Logstash esegue uno script che legge tutti i file e in real time li spedisce a Kafka che fungerà da storage."
   ]
  },
  {
   "cell_type": "markdown",
   "id": "bccc38c7",
   "metadata": {
    "slideshow": {
     "slide_type": "slide"
    },
    "tags": []
   },
   "source": [
    "### File di configurazione\n",
    "\n",
    "```python \n",
    "input {\n",
    "  exec {\n",
    "    command => \"python3 /ingest.py\"\n",
    "    codec => multiline {\n",
    "      pattern => \"---\"\n",
    "      negate => true\n",
    "      what => \"next\"\n",
    "    }\n",
    "    interval => 3600 # 3600 s == 1 h\n",
    "  }\n",
    "}\n",
    "\n",
    "output {\n",
    "  stdout{}\n",
    "  kafka {\n",
    "    bootstrap_servers => \"10.0.100.23:9092\"\n",
    "    codec => json\n",
    "    topic_id => ner\n",
    "  }\n",
    "}\n",
    "```"
   ]
  },
  {
   "cell_type": "markdown",
   "id": "6159ca7e",
   "metadata": {
    "slideshow": {
     "slide_type": "slide"
    },
    "tags": []
   },
   "source": [
    "## Data streaming\n",
    "<img src=\"./images/kafka-logo.png\" >"
   ]
  },
  {
   "cell_type": "markdown",
   "id": "b16f82b0",
   "metadata": {
    "slideshow": {
     "slide_type": "fragment"
    },
    "tags": []
   },
   "source": [
    "### Cosa è Kafka? \n",
    "\n",
    "Secondo RedHat: \"*Apache Kafka è una piattaforma per il data streaming distribuita che  permette di pubblicare, sottoscrivere, archiviare ed elaborare flussi di record in tempo reale. È progettata per gestire flussi di dati  provenienti da più fonti distribuendoli a più consumatori. In breve,  consente di spostare grandi quantità di dati da un punto qualsiasi a un  altro nello stesso momento.*\""
   ]
  },
  {
   "cell_type": "markdown",
   "id": "cba48efd",
   "metadata": {
    "slideshow": {
     "slide_type": "slide"
    },
    "tags": []
   },
   "source": [
    "E' stato creato un topic dove vengono conservati tutti i dati e da cui leggerà Spark."
   ]
  },
  {
   "cell_type": "markdown",
   "id": "13a92890",
   "metadata": {
    "slideshow": {
     "slide_type": "slide"
    }
   },
   "source": [
    "<center><img src=\"./images/kafka-ui.png\" height=\"50%\"></center>"
   ]
  },
  {
   "cell_type": "markdown",
   "id": "583d2a07",
   "metadata": {
    "slideshow": {
     "slide_type": "slide"
    }
   },
   "source": [
    "<center><img src=\"./images/meme_kafka_streaming.jpg\" width=\"50%\" height=\"30%\"></center>"
   ]
  },
  {
   "cell_type": "markdown",
   "id": "177a48ce",
   "metadata": {
    "slideshow": {
     "slide_type": "slide"
    }
   },
   "source": [
    "## Data Processing\n",
    "\n",
    "<img src=\"./images/apache_spark_cover.png\" width=\"20%\">"
   ]
  },
  {
   "cell_type": "markdown",
   "id": "e929d14a",
   "metadata": {
    "slideshow": {
     "slide_type": "fragment"
    }
   },
   "source": [
    "Apache Spark™ is a multi-language engine for executing data engineering, data science, and machine learning on single-node machines or clusters.\n",
    "<br>\n",
    "Nello specifico, utilizziamo **Spark Structured Streaming**, che ci permette di lavorare su dati in tempo reale raggruppati all'interno di un'astrazione ad alto livello, il dataframe. Un dataframe è come una tabella contenente i dati e su cui possono essere svolte delle operazioni.<br>\n",
    "Attraverso Spark structured streaming otteniamo un dataframe (in streaming) contenente i dati trasmessi in tempo reale da Kafka."
   ]
  },
  {
   "cell_type": "markdown",
   "id": "29ed6ffd",
   "metadata": {
    "slideshow": {
     "slide_type": "slide"
    }
   },
   "source": [
    "Lo schema di un messaggio Kafka:\n",
    "\n",
    "```python\n",
    "# Define the schema of the JSON data from Kafka\n",
    "json_schema = StructType() \\\n",
    "    .add(\"tags\", ArrayType(StringType())) \\\n",
    "    .add(\"message\", StringType()) \\\n",
    "    .add(\"process\", StructType()\n",
    "         .add(\"exit_code\", StringType())\n",
    "         .add(\"command_line\", StringType())) \\\n",
    "    .add(\"@version\", StringType()) \\\n",
    "    .add(\"@timestamp\", StringType()) \\\n",
    "    .add(\"host\", StructType()\n",
    "         .add(\"name\", StringType())) \\\n",
    "    .add(\"event\", StructType()\n",
    "         .add(\"original\", StringType()))\n",
    "```"
   ]
  },
  {
   "cell_type": "markdown",
   "id": "8a8c1926",
   "metadata": {
    "slideshow": {
     "slide_type": "slide"
    }
   },
   "source": [
    "### ChatGPT\n",
    "<img src=\"./images/chatgpt-logo.png\" >\n"
   ]
  },
  {
   "cell_type": "markdown",
   "id": "5900459e",
   "metadata": {
    "slideshow": {
     "slide_type": "slide"
    }
   },
   "source": [
    "ChatGPT è il Large Language Model più popolare al mondo è uno tra i più performanti.\n",
    "E' stato allenato con tutti i dati che sono presenti su Internet. Svolge una quantità vastissima di tasks. Alcuni esempi:"
   ]
  },
  {
   "cell_type": "markdown",
   "id": "adfba59f",
   "metadata": {
    "slideshow": {
     "slide_type": "slide"
    }
   },
   "source": [
    "- generare nuovi articoli, e-mail o poesie seguendo un determinato stile che può essere quello di uno scrittore"
   ]
  },
  {
   "cell_type": "markdown",
   "id": "3cf49038",
   "metadata": {
    "slideshow": {
     "slide_type": "fragment"
    }
   },
   "source": [
    "- Generare codice"
   ]
  },
  {
   "cell_type": "markdown",
   "id": "9f388a6d",
   "metadata": {
    "slideshow": {
     "slide_type": "fragment"
    }
   },
   "source": [
    "-  Spiegare concetti complessi in modo semplice"
   ]
  },
  {
   "cell_type": "markdown",
   "id": "d151f9ff",
   "metadata": {
    "slideshow": {
     "slide_type": "fragment"
    }
   },
   "source": [
    "- Riassumere testi"
   ]
  },
  {
   "cell_type": "markdown",
   "id": "4d9dbd73",
   "metadata": {
    "slideshow": {
     "slide_type": "fragment"
    }
   },
   "source": [
    "- Correggere errori sintattici "
   ]
  },
  {
   "cell_type": "markdown",
   "id": "79598b78",
   "metadata": {
    "slideshow": {
     "slide_type": "slide"
    }
   },
   "source": [
    "\n",
    "\n",
    "Grazie all'estrema versalità del modello, è possibile inserire diversi prompts ovvero la ricerca si può focalizzare su determinate caratteristiche piuttosto che altre sulla base dell'esigenze dell'utente; ad esempio un neurologo potrebbe essere interessato a estrarre informazioni diverse rispetto a quelle che cercherebbe un dermatologo."
   ]
  },
  {
   "cell_type": "markdown",
   "id": "533569a0",
   "metadata": {
    "slideshow": {
     "slide_type": "slide"
    }
   },
   "source": [
    "<center><img src=\"./images/meme-spark-chatgpt.png\"></center>"
   ]
  },
  {
   "cell_type": "markdown",
   "id": "cf7e9644",
   "metadata": {
    "slideshow": {
     "slide_type": "slide"
    }
   },
   "source": [
    "Per ottenere degli ottimi risultati, è fondamentale saper chiedere esattamente cosa si vuole al modello. I promtps non devono lasciare spazio ad ambiguità, così il modello saprà esattamente cosa cercare.<br>\n",
    "\n",
    "* SYSTEM_PROMPT è il messaggio con il quale definiamo chi è e che cosa dovrà fare il modello.\n",
    "* GUIDELINES_PROMPT è il messaggio più importante : specifica che cosa si deve cercare, e come la risposta deve essere formattata.  \n"
   ]
  },
  {
   "cell_type": "markdown",
   "id": "7c63e997",
   "metadata": {
    "slideshow": {
     "slide_type": "slide"
    }
   },
   "source": [
    "```python\n",
    "SYSTEM_PROMPT = '''\n",
    "                Sei un intelligente sistema che estrae delle caratteristiche da un testo.\\\n",
    "                Ti fornirò quali caratteristiche devi estrarre, il testo da cui estrarle e il formato di output.\n",
    "                '''\n",
    "USER_PROMPT_1 = \"Hai chiaro il tuo ruolo?\"\n",
    "\n",
    "ASSISTANT_PROMPT_1 = \"Certo, sono pronto ad aiutarti con il tuo compito. Ti prego di fornirmi le informazioni necessarie per iniziare.\"\n",
    "\n",
    "GUIDELINES_PROMPT = (\n",
    "\"Formato Output:\\n\"\n",
    "\"{{\\n\"\n",
    "    \"\\\"Emiscroto destro\\\" : {{\\n\"\n",
    "        \"\\\"Testicolo\\\" : {{\\n\"\n",
    "            \"\\\"Sede anatomica\\\" : \\\"\\\",\\n\"\n",
    "            \"\\\"Volume\\\" : \\\"\\\",\\n\"\n",
    "            \"\\\"Dimensioni\\\" : \\\"\\\",\\n\"\n",
    "            \"\\\"Ecostruttura : \\\"\\\"\\n\"\n",
    "        \"}},\\n\"\n",
    "        \"\\\"Epididimo\\\" : {{\\n\"\n",
    "            \"\\\"Aspetto ecografico\\\" : \\\"\\\"\\n\"\n",
    "        \"}},\\n\"\n",
    "        \"\\\"Canale inguinale\\\" : \\\"\\\"\\n\"\n",
    "    \"}},\\n\"\n",
    "    \"\\n\"\n",
    "    \"\\\"Emiscroto sinistro\\\" : {{\\n\"\n",
    "        \"\\\"Testicolo\\\" : {{\\n\"\n",
    "            \"\\\"Sede anatomica\\\" : \\\"\\\",\\n\"\n",
    "            \"\\\"Volume\\\" : \\\"\\\",\\n\"\n",
    "            \"\\\"Dimensioni\\\" : \\\"\\\",\\n\"\n",
    "            \"\\\"Ecostruttura : \\\"\\\"\\n\"\n",
    "        \"}},\\n\"\n",
    "        \"\\\"Epididimo\\\" : {{\\n\"\n",
    "            \"\\\"Aspetto ecografico\\\" : \\\"\\\"\\n\"\n",
    "        \"}},\\n\"\n",
    "        \"\\\"Canale inguinale\\\" : \\\"\\\"\\n\"\n",
    "    \"}}\\n\"\n",
    "\"}}\\n\"\n",
    "\"Spiegazione caratteristiche :\\n\"\n",
    "\"\\\"Sede anatomica\\\" può assumere solo i valori \\\"Fisiologica\\\" o \\\"Non fisiologica\\\" o \\\"\\\"\\n\"\n",
    "\"\\\"Volume\\\" può assumere solo i valori \\\"Normali per età\\\" o \\\"Non normali per età\\\" o \\\"\\\"\\n\"\n",
    "\"\\\"Dimensioni\\\" può assumere solo i valori \\\"Normali per età\\\" o \\\"Non normali per età\\\" o \\\"\\\"\\n\"\n",
    "\"\\\"Ecostruttura\\\" può assumere solo i valori \\\"Omogenea\\\" o \\\"Disomogenea\\\" o \\\"\\\"\\n\"\n",
    "\"\\\"Aspetto ecografico\\\" può assumere solo i valori \\\"Normale\\\" o \\\"Anormale\\\" o \\\"\\\"\\n\"\n",
    "\"\\\"Canale inguinale\\\" può assumere solo i valori \\\"Normale\\\" o \\\"Anormale\\\" o \\\"\\\"\\n\"\n",
    "\"Testo : {}\\n\"\n",
    "\"Output : \"\n",
    ")\n",
    "```"
   ]
  },
  {
   "cell_type": "markdown",
   "id": "e0c06247",
   "metadata": {
    "slideshow": {
     "slide_type": "slide"
    }
   },
   "source": [
    "<center><img src=\"./images/meme-prompt.png\"></center>"
   ]
  },
  {
   "cell_type": "markdown",
   "id": "ccc2625d",
   "metadata": {
    "slideshow": {
     "slide_type": "slide"
    }
   },
   "source": [
    "Per poter effettuare chiamate alle API di OpenAI è necessario creare un account Azure, richiedere l'accesso alle API e importare l'endopoint e la secret key. \n",
    "\n",
    "```bash \n",
    "echo 'export AZURE_OPENAI_ENDPOINT=<Your OpenAI Endpoint>' >> ~/.bashrc\n",
    "echo 'export AZURE_OPENAI_KEY=<Your OpenAI Secret Key>' >> ~/.bashrc\n",
    "source ~/.bashrc\n",
    "```"
   ]
  },
  {
   "cell_type": "markdown",
   "id": "2f5728ef",
   "metadata": {
    "slideshow": {
     "slide_type": "slide"
    }
   },
   "source": [
    "Il seguente pezzo di codice setta le variabili neccessarie per effettuare chiamate a GPT-4.\n",
    "\n",
    "```python\n",
    "def setOpenAIConf():\n",
    "    openai.api_type = \"azure\"\n",
    "    openai.api_base = os.getenv(\"AZURE_OPENAI_ENDPOINT\")\n",
    "    openai.api_version = \"2023-03-15-preview\"\n",
    "    openai.api_key = os.getenv(\"AZURE_OPENAI_KEY\")\n",
    "```"
   ]
  },
  {
   "cell_type": "markdown",
   "id": "c88aaff2",
   "metadata": {
    "slideshow": {
     "slide_type": "slide"
    }
   },
   "source": [
    "Questa funzione fa una chiamata al modello, passando come parametri, tra gli altri, i prompts che abbiamo definito sopra.\n",
    "\n",
    "```python\n",
    "def requestToChatGPT(user_prompt):\n",
    "   setOpenAIConf()\n",
    "   return openai.ChatCompletion.create(\n",
    "      engine=\"healthcare-features-extractor\",\n",
    "      messages = [\n",
    "        {\"role\":\"system\",\"content\":SYSTEM_PROMPT},\n",
    "        {\"role\":\"user\",\"content\":USER_PROMPT_1},\n",
    "        {\"role\": \"assistant\", \"content\": ASSISTANT_PROMPT_1},\n",
    "        {\"role\": \"user\", \"content\": user_prompt}\n",
    "        ],\n",
    "      temperature=0,\n",
    "      max_tokens=800,\n",
    "      top_p=0.95,\n",
    "      frequency_penalty=0,\n",
    "      presence_penalty=0,\n",
    "      stop=None)\n",
    "```"
   ]
  },
  {
   "cell_type": "markdown",
   "id": "e488d7d7",
   "metadata": {
    "slideshow": {
     "slide_type": "slide"
    },
    "tags": []
   },
   "source": [
    "Il pezzo di codice seguente sanitizza l'output ricevuto da ChatGPT-4 per evitare che ci siano JSON non validi e invia il risultato ,sotto forma di file JSON, a Elasticsearch.\n",
    "\n",
    "```python\n",
    "def sendToEs(batch_df: DataFrame, batch_id: int):\n",
    "  for row in batch_df.rdd.collect():\n",
    "    user_prompt = GUIDELINES_PROMPT.format(row['message'])\n",
    "    \n",
    "    response = requestToChatGPT(user_prompt)\n",
    "    response = response['choices'][0]['message']['content']\n",
    "    if response[0] != '{':\n",
    "        continue\n",
    "\n",
    "    try:\n",
    "        doc = json.loads(response.rsplit('}', 1)[0] + '}')\n",
    "        doc[\"Emiscroto destro\"][\"Testicolo\"][\"Volume\"] = float(doc[\"Emiscroto destro\"][\"Testicolo\"][\"Volume\"])\n",
    "        doc[\"Emiscroto sinistro\"][\"Testicolo\"][\"Volume\"] = float(doc[\"Emiscroto sinistro\"][\"Testicolo\"][\"Volume\"])\n",
    "    except (json.JSONDecodeError, ValueError):\n",
    "        continue\n",
    "    \n",
    "    doc[\"Timestamp\"] = row[\"timestamp\"]\n",
    "\n",
    "    global idx\n",
    "    idx = idx + 1\n",
    "    resp = es.index(index=ELASTIC_INDEX, id=idx, document=doc)\n",
    "    \n",
    "```"
   ]
  },
  {
   "cell_type": "markdown",
   "id": "7c12ce65",
   "metadata": {
    "slideshow": {
     "slide_type": "slide"
    }
   },
   "source": [
    "## Data indexing\n",
    "\n",
    "<img src=\"./images/elasticsearch_cover.png\" width=\"30%\">"
   ]
  },
  {
   "cell_type": "markdown",
   "id": "a37bcf5a",
   "metadata": {
    "slideshow": {
     "slide_type": "fragment"
    },
    "tags": []
   },
   "source": [
    "Elasticsearch è un motore di ricerca e analisi distribuito (open source) per tutti i tipi di dati, inclusi testuali, numerici, geospaziali,  strutturati e non strutturati. "
   ]
  },
  {
   "cell_type": "markdown",
   "id": "861fee2d",
   "metadata": {
    "slideshow": {
     "slide_type": "skip"
    }
   },
   "source": [
    "// Foto dell'indice ner_idx"
   ]
  },
  {
   "cell_type": "markdown",
   "id": "82a9c607",
   "metadata": {
    "slideshow": {
     "slide_type": "slide"
    }
   },
   "source": [
    "## Data Visualization"
   ]
  },
  {
   "cell_type": "markdown",
   "id": "6afe3bb6",
   "metadata": {
    "slideshow": {
     "slide_type": "fragment"
    },
    "tags": []
   },
   "source": [
    "Kibana è l'anello mancante..."
   ]
  },
  {
   "cell_type": "markdown",
   "id": "227090b7",
   "metadata": {
    "slideshow": {
     "slide_type": "fragment"
    }
   },
   "source": [
    "<img src=\"./images/kibana_cover.png\" width=30%>"
   ]
  },
  {
   "cell_type": "markdown",
   "id": "a8ffc91e",
   "metadata": {
    "slideshow": {
     "slide_type": "slide"
    }
   },
   "source": [
    "È un’interfaccia web estensibile per la presentazione visiva dei dati raccolti. Insieme ad Elasticsearch e allo strumento di elaborazione Logstash forma il cosiddetto stack ELK."
   ]
  },
  {
   "cell_type": "markdown",
   "id": "9d9f2524",
   "metadata": {
    "slideshow": {
     "slide_type": "slide"
    },
    "tags": []
   },
   "source": [
    "Creiamo delle dashboard che ci permettono di visualizzare l'andamento dei dati, la predizione e altre preziose informazioni, il tutto in tempo reale. Vediamo qualche grafico d'esempio!"
   ]
  },
  {
   "cell_type": "markdown",
   "id": "b036d996",
   "metadata": {
    "slideshow": {
     "slide_type": "slide"
    },
    "tags": []
   },
   "source": [
    "<center><img src=\"./images/dashboards.png\"></center>"
   ]
  }
 ],
 "metadata": {
  "celltoolbar": "Slideshow",
  "kernelspec": {
   "display_name": "Python 3 (ipykernel)",
   "language": "python",
   "name": "python3"
  },
  "language_info": {
   "codemirror_mode": {
    "name": "ipython",
    "version": 3
   },
   "file_extension": ".py",
   "mimetype": "text/x-python",
   "name": "python",
   "nbconvert_exporter": "python",
   "pygments_lexer": "ipython3",
   "version": "3.11.4"
  }
 },
 "nbformat": 4,
 "nbformat_minor": 5
}
